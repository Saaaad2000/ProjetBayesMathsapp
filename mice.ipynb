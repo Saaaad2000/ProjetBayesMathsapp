{
 "cells": [
  {
   "cell_type": "markdown",
   "metadata": {},
   "source": [
    "## Saâd AZIZ ALAOUI & Simoné IANNELLI"
   ]
  },
  {
   "cell_type": "code",
   "execution_count": 2,
   "metadata": {},
   "outputs": [],
   "source": [
    "import numpy as np\n",
    "from numpy.random import normal\n",
    "from scipy.stats import weibull_min, logistic, norm, gamma, expon, truncweibull_min\n",
    "from sklearn.cluster import KMeans\n",
    "import matplotlib.pyplot as plt"
   ]
  },
  {
   "cell_type": "code",
   "execution_count": 3,
   "metadata": {},
   "outputs": [],
   "source": [
    "# Vecteur des failure times (les individus censurés ont un nan)\n",
    "t =np.array([12,17,21, 25, 11,  26,  27,  30, 13, 12,  21,20,  23,  25,  23,  29, 35, np.nan, 31, 36,\n",
    "     32, 27,  23, 12, 18, np.nan, np.nan,  38, 29, 30, np.nan, 32, np.nan, np.nan, np.nan, np.nan, 25,  30, 37, 27,\n",
    "     22, 26, np.nan, 28, 19,  15,  12,  35, 35, 10,  22, 18, np.nan,  12, np.nan, np.nan, 31,  24, 37, 29,\n",
    "     27, 18,  22, 13, 18,  29,  28, np.nan, 16, 22,  26, 19, np.nan, np.nan,  17,  28, 26,  12, 17, 26])\n",
    "# les individus censurés ont une valeur différente de zéro (leur temps de censure en semaines)\n",
    "tcensor =np.array([0, 0,  0, 0, 0,  0,  0,  0, 0, 0,  0, 0,  0,  0,  0,  0, 0, 40, 0, 0,\n",
    "     0, 0,  0, 0, 0, 40, 40,  0, 0, 0, 40, 0, 40, 40, 40, 40, 0,  0, 0, 0,\n",
    "     0, 0, 10, 0, 0,  0,  0,  0, 0, 0,  0, 0, 24,  0, 40, 40, 0,  0, 0, 0,\n",
    "     0, 0,  0, 0, 0,  0,  0, 20, 0, 0,  0, 0, 29, 10,  0,  0, 0,  0, 0, 0])\n",
    "\n",
    "is_censored = np.array([0, 0, 0, 0, 0, 0, 0, 0, 0, 0, 0, 0, 0, 0, 0, 0, 0, 1, 0, 0, \n",
    "0, 0, 0, 0, 0, 1, 1, 0, 0, 0, 1, 0, 1, 1, 1, 1, 0, 0, 0, 0, 0, \n",
    "0, 1, 0, 0, 0, 0, 0, 0, 0, 0, 0, 1, 0, 1, 1, 0, 0, 0, 0, 0, 0, \n",
    "0, 0, 0, 0, 0, 1, 0, 0, 0, 0, 1, 1, 0, 0, 0, 0, 0, 0])\n",
    "\n",
    "t_uncensored =np.array([12, 17, 21, 25, 11, 26, 27, 30, 13, 12, 21, 20, 23, 25, 23, \n",
    "29, 35, 31, 36, 32, 27, 23, 12, 18, 38, 29, 30, 32, 25, 30, 37, \n",
    "27, 22, 26, 28, 19, 15, 12, 35, 35, 10, 22, 18, 12, 31, 24, 37, \n",
    "29, 27, 18, 22, 13, 18, 29, 28, 16, 22, 26, 19, 17, 28, 26, 12, \n",
    "17, 26])\n",
    "\n",
    "group_mice = np.array([1, 1, 1, 1, 1, 1, 1, 1, 1, 1, 1, 1, 1, 1, 1, 1, 1, 1, 1, 1, \n",
    "2, 2, 2, 2, 2, 2, 2, 2, 2, 2, 2, 2, 2, 2, 2, 2, 2, 2, 2, 2, 3, \n",
    "3, 3, 3, 3, 3, 3, 3, 3, 3, 3, 3, 3, 3, 3, 3, 3, 3, 3, 3, 4, 4, \n",
    "4, 4, 4, 4, 4, 4, 4, 4, 4, 4, 4, 4, 4, 4, 4, 4, 4, 4])\n",
    "\n",
    "len_uncens = len(t_uncensored)\n",
    "len_cens = 80 - len_uncens\n",
    "len_group = 4"
   ]
  },
  {
   "cell_type": "code",
   "execution_count": 6,
   "metadata": {},
   "outputs": [
    {
     "data": {
      "text/plain": [
       "65"
      ]
     },
     "execution_count": 6,
     "metadata": {},
     "output_type": "execute_result"
    }
   ],
   "source": [
    "init_r = 0 \n",
    "init_beta1 = 0\n",
    "init_beta2 = 0\n",
    "init_beta3 = 0\n",
    "init_beta4 = 0\n",
    "init_vehcontrol = 0\n",
    "init_testsub = 0\n",
    "init_poscontrol = 0"
   ]
  },
  {
   "cell_type": "code",
   "execution_count": 13,
   "metadata": {},
   "outputs": [
    {
     "data": {
      "text/plain": [
       "6.1203189501240205"
      ]
     },
     "execution_count": 13,
     "metadata": {},
     "output_type": "execute_result"
    }
   ],
   "source": [
    "weibull_min.rvs(2.4, loc=0, scale=5)"
   ]
  },
  {
   "cell_type": "code",
   "execution_count": 7,
   "metadata": {},
   "outputs": [
    {
     "data": {
      "text/plain": [
       "[40]"
      ]
     },
     "execution_count": 7,
     "metadata": {},
     "output_type": "execute_result"
    }
   ],
   "source": [
    "t_1 = t[:20]\n",
    "tcensor_1 = tcensor[:20]\n",
    "is_censored_1 = is_censored[:20]\n",
    "uncensored_array_1 = [t_1[i] for i in range(len(t_1)) if is_censored_1[i] == 0]\n",
    "censored_array_1 = [tcensor_1[i] for i in range(len(tcensor_1)) if is_censored_1[i] == 1]\n",
    "censored_array_1"
   ]
  },
  {
   "cell_type": "code",
   "execution_count": null,
   "metadata": {},
   "outputs": [],
   "source": [
    "def mice(nchain,init_r,init_beta1,init_beta2,init_beta3,init_beta4,init_vehcontrol,init_testsub,init_poscontrol,prop_sd,t,t_cen) :\n",
    "\n",
    "    ## nchain est la taille de la chaine \n",
    "    ## init_alpha, init_beta1, init_beta2,init_beta3,init_beta4,init_vehcontrol,init_testsub,init_poscontrol sont les val init de nos param\n",
    "    ## prop_sd est la variance pour la MC\n",
    "    ## la fonction résoud le probleme WINBUGS MICE MCMC within GIBBS.\n",
    "\n",
    "    r = init_r\n",
    "    beta1 = init_beta1\n",
    "    beta2 = init_beta2\n",
    "    beta3 = init_beta3\n",
    "    beta4 = init_beta4\n",
    "    veh_control = init_vehcontrol\n",
    "    testsub = init_testsub\n",
    "    poscontrol = init_poscontrol\t\n",
    "\n",
    "\n",
    "    chain = np.zeros((nchain+1, 8))\n",
    "    acc_rate = np.zeros(5)\n",
    "    chain[0,0] = init_r\n",
    "    chain[0,1] = init_beta1\n",
    "    chain[0,2] = init_beta2\n",
    "    chain[0,3] = init_beta3\n",
    "    chain[0,4] = init_beta4\n",
    "    chain[0,5] = init_vehcontrol\n",
    "    chain[0,6] = init_testsub\n",
    "    chain[0,7] = init_poscontrol\n",
    "\n",
    "    t_1 = t[:20]\n",
    "    tcensor_1 = tcensor[:20]\n",
    "    is_censored_1 = is_censored[:20]\n",
    "    uncensored_array_1 = [t_1[i] for i in range(len(t_1)) if is_censored_1[i] == 0]\n",
    "    censored_array_1 = [tcensor_2[i] for i in range(len(tcensor_2)) if is_censored_1[i] == 1]\n",
    "\n",
    "    t_2 = t[20:40]\n",
    "    tcensor_2 = tcensor[20:40]\n",
    "    is_censored_2 = is_censored[20:40]\n",
    "    uncensored_array_2 = [t_2[i] for i in range(len(t_2)) if is_censored_2[i] == 0]\n",
    "    censored_array_2 = [tcensor_2[i] for i in range(len(tcensor_2)) if is_censored_2[i] == 1]\n",
    "\n",
    "    t_3= t[40:60]\n",
    "    tcensor_3 = tcensor[40:60]\n",
    "    is_censored_3 = is_censored[40:60]\n",
    "    uncensored_array_3 = [t_3[i] for i in range(len(t_3)) if is_censored_3[i] == 0]\n",
    "    censored_array_3 = [tcensor_3[i] for i in range(len(tcensor_3)) if is_censored_3[i] == 1]\n",
    "\n",
    "    t_4 = t[60:80]\n",
    "    tcensor_4 = tcensor[60:80]\n",
    "    is_censored_4 = is_censored[60:80]\n",
    "    uncensored_array_4 = [t_4[i] for i in range(len(t_4)) if is_censored_4[i] == 0]\n",
    "    censored_array_4 = [tcensor_4[i] for i in range(len(tcensor_4)) if is_censored_4[i] == 1]\n",
    "    \n",
    "    for i in range(nchain) : \n",
    "\n",
    "        # Mise à jour de r pour commencer \n",
    "\n",
    "        prop = normal(loc = r, scale = prop_sd[0])\n",
    "\n",
    "        top_1 = (-10**-3)*prop + sum( (np.exp(beta1)-1) * np.log(uncensored_array_1/prop)) - sum( (np.exp(beta1)) * (uncensored_array_1/prop)) + sum( (np.exp(beta1)-1) * np.log(censored_array_1/prop))\n",
    "        top_2 = (-10**-3)*prop + sum( (np.exp(beta2)-1) * np.log(uncensored_array_2/prop)) - sum( (np.exp(beta2)) * (uncensored_array_2/prop)) + sum( (np.exp(beta2)-1) * np.log(censored_array_2/prop))\n",
    "        top_3 = (-10**-3)*prop + sum( (np.exp(beta3)-1) * np.log(uncensored_array_3/prop)) - sum( (np.exp(beta3)) * (uncensored_array_3/prop)) + sum( (np.exp(beta3)-1) * np.log(censored_array_3/prop))\n",
    "        top_4 = (-10**-3)*prop + sum( (np.exp(beta4)-1) * np.log(uncensored_array_4/prop)) - sum( (np.exp(beta4)) * (uncensored_array_4/prop)) + sum( (np.exp(beta4)-1) * np.log(censored_array_4/prop))\n",
    "\n",
    "        top = top_1 + top_2 + top_3 + top_4\n",
    "\n",
    "        bottom_1 = (-10**-3)*r + sum( (np.exp(beta1)-1) * np.log(uncensored_array_1/r)) - sum( (np.exp(beta1)) * (uncensored_array_1/r)) + sum( (np.exp(beta1)-1) * np.log(censored_array_1/r))\n",
    "        bottom_2 = (-10**-3)*r + sum( (np.exp(beta2)-1) * np.log(uncensored_array_2/r)) - sum( (np.exp(beta2)) * (uncensored_array_2/r)) + sum( (np.exp(beta2)-1) * np.log(censored_array_2/r))\n",
    "        bottom_3 = (-10**-3)*r + sum( (np.exp(beta3)-1) * np.log(uncensored_array_3/r)) - sum( (np.exp(beta3)) * (uncensored_array_3/r)) + sum( (np.exp(beta3)-1) * np.log(censored_array_3/r))\n",
    "        bottom_4 = (-10**-3)*r + sum( (np.exp(beta4)-1) * np.log(uncensored_array_4/r)) - sum( (np.exp(beta4)) * (uncensored_array_4/r)) + sum( (np.exp(beta4)-1) * np.log(censored_array_4/r))\n",
    "\n",
    "        bottom = bottom_1 + bottom_2 + bottom_3 + bottom_4\n",
    "\n",
    "        acc_prob = np.exp(top - bottom)\n",
    "\n",
    "        if np.random.uniform() < acc_prob:\n",
    "            r = prop\n",
    "            acc_rate[0] += 1\n",
    "\n",
    "        # Mise à jour de Beta 1 \n",
    "        prop = normal(loc = beta1, scale = prop_sd[1])\n",
    "\n",
    "        top = - (prop**2 / (2 * 1e3)) + sum( (np.exp(prop)-1) * np.log(uncensored_array_1/r)) - sum( (np.exp(prop)) * (uncensored_array_1/r)) + sum( (np.exp(prop)-1) * np.log(censored_array_1/r))\n",
    "        bottom = - (beta1**2 / (2 * 1e3)) + sum( (np.exp(beta1)-1) * np.log(uncensored_array_1/r)) - sum( (np.exp(beta1)) * (uncensored_array_1/r)) + sum( (np.exp(beta1)-1) * np.log(censored_array_1/r))\n",
    "        acc_prob = np.exp(top - bottom)\n",
    "\n",
    "        if np.random.uniform() < acc_prob:\n",
    "            beta1 = prop\n",
    "            acc_rate[1] += 1\n",
    "\n",
    "        median1 = (np.log(2) * np.exp(-beta1)) ** 1/r\n",
    "\n",
    "        # Mise à jour de Beta 2\n",
    "        prop = normal(loc = beta2, scale = prop_sd[2])\n",
    "\n",
    "        top = - (prop**2 / (2 * 1e3)) + sum( (np.exp(prop)-1) * np.log(uncensored_array_2/r)) - sum( (np.exp(prop)) * (uncensored_array_2/r)) + sum( (np.exp(prop)-1) * np.log(censored_array_2/r))\n",
    "        bottom = - (beta2**2 / (2 * 1e3)) + sum( (np.exp(beta2)-1) * np.log(uncensored_array_1/r)) - sum( (np.exp(beta2)) * (uncensored_array_1/r)) + sum( (np.exp(beta2)-1) * np.log(censored_array_1/r))\n",
    "        acc_prob = np.exp(top - bottom)\n",
    "\n",
    "        if np.random.uniform() < acc_prob:\n",
    "            beta2 = prop\n",
    "            acc_rate[2] += 1\n",
    "\n",
    "        median2 = (np.log(2) * np.exp(-beta2)) ** 1/r\n",
    "\n",
    "\n",
    "\n",
    "\n",
    "    return(chain,acc_rate)\n",
    "\n"
   ]
  }
 ],
 "metadata": {
  "kernelspec": {
   "display_name": "classic",
   "language": "python",
   "name": "python3"
  },
  "language_info": {
   "codemirror_mode": {
    "name": "ipython",
    "version": 3
   },
   "file_extension": ".py",
   "mimetype": "text/x-python",
   "name": "python",
   "nbconvert_exporter": "python",
   "pygments_lexer": "ipython3",
   "version": "3.12.2"
  }
 },
 "nbformat": 4,
 "nbformat_minor": 2
}
